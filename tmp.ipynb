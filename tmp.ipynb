{
 "cells": [
  {
   "cell_type": "code",
   "execution_count": 1,
   "id": "dec88818",
   "metadata": {},
   "outputs": [],
   "source": [
    "import torch\n",
    "from torch import nn\n",
    "from torch.utils.data import DataLoader, Dataset\n",
    "from torchvision import datasets, transforms\n",
    "import torch.nn.functional as F"
   ]
  },
  {
   "cell_type": "code",
   "execution_count": 2,
   "id": "d74fad95",
   "metadata": {},
   "outputs": [],
   "source": [
    "train_transforms = transforms.Compose([\n",
    "    # transforms.RandomApply([transforms.CenterCrop(22), ], p=0.1),\n",
    "    transforms.Resize((28, 28)),\n",
    "    transforms.RandomRotation((-15., 15.), fill=0),\n",
    "    # transforms.CenterCrop(18),\n",
    "    transforms.ToTensor(),\n",
    "    transforms.Normalize((0.1307,), (0.3081,)),\n",
    "    ])\n",
    "\n",
    "test_transforms = transforms.Compose([\n",
    "    transforms.ToTensor(),\n",
    "    transforms.Normalize((0.13252,), (0.31048,))\n",
    "    ])"
   ]
  },
  {
   "cell_type": "code",
   "execution_count": 3,
   "id": "4c2ff820",
   "metadata": {},
   "outputs": [],
   "source": [
    "# Download training data from open datasets.\n",
    "training_data = datasets.MNIST(\n",
    "    root=\"data\",\n",
    "    train=True,\n",
    "    download=True,\n",
    "    transform=train_transforms,\n",
    ")\n",
    "\n",
    "# Download test data from open datasets.\n",
    "test_data = datasets.MNIST(\n",
    "    root=\"data\",\n",
    "    train=False,\n",
    "    download=True,\n",
    "    transform=test_transforms,\n",
    ")"
   ]
  },
  {
   "cell_type": "code",
   "execution_count": 4,
   "id": "e92e69b0",
   "metadata": {},
   "outputs": [
    {
     "name": "stdout",
     "output_type": "stream",
     "text": [
      "Label 0: 5923\n",
      "Label 1: 6742\n",
      "Label 2: 5958\n",
      "Label 3: 6131\n",
      "Label 4: 5842\n",
      "Label 5: 5421\n",
      "Label 6: 5918\n",
      "Label 7: 6265\n",
      "Label 8: 5851\n",
      "Label 9: 5949\n"
     ]
    }
   ],
   "source": [
    "import numpy as np\n",
    "labels = np.array(training_data.targets)\n",
    "unique, counts = np.unique(labels, return_counts=True)\n",
    "for label, count in zip(unique, counts):\n",
    "    print(f\"Label {label}: {count}\")"
   ]
  },
  {
   "cell_type": "code",
   "execution_count": 5,
   "id": "795bead8",
   "metadata": {},
   "outputs": [
    {
     "name": "stdout",
     "output_type": "stream",
     "text": [
      "Shape of X [N, C, H, W]: torch.Size([64, 1, 28, 28])\n",
      "Shape of y: torch.Size([64]) torch.int64\n"
     ]
    }
   ],
   "source": [
    "batch_size = 64\n",
    "\n",
    "# Create data loaders.\n",
    "train_dataloader = DataLoader(training_data, batch_size=batch_size, shuffle=True, pin_memory=True)\n",
    "test_dataloader = DataLoader(test_data, batch_size=batch_size, pin_memory=True)\n",
    "\n",
    "for X, y in test_dataloader:\n",
    "    print(f\"Shape of X [N, C, H, W]: {X.shape}\")\n",
    "    print(f\"Shape of y: {y.shape} {y.dtype}\")\n",
    "    break"
   ]
  },
  {
   "cell_type": "code",
   "execution_count": 6,
   "id": "b4aa2f11",
   "metadata": {},
   "outputs": [
    {
     "data": {
      "image/png": "[encoded data removed]",
      "text/plain": [
       "<Figure size 640x480 with 12 Axes>"
      ]
     },
     "metadata": {},
     "output_type": "display_data"
    }
   ],
   "source": [
    "import matplotlib.pyplot as plt\n",
    "\n",
    "batch_data, batch_label = next(iter(train_dataloader))\n",
    "\n",
    "fig = plt.figure()\n",
    "\n",
    "for i in range(12):\n",
    "  plt.subplot(3,4,i+1)\n",
    "  plt.tight_layout()\n",
    "  plt.imshow(batch_data[i].squeeze(0), cmap='gray')\n",
    "  plt.title(batch_label[i].item())\n",
    "  plt.xticks([])\n",
    "  plt.yticks([])"
   ]
  },
  {
   "cell_type": "code",
   "execution_count": 7,
   "id": "92832325",
   "metadata": {},
   "outputs": [
    {
     "data": {
      "text/plain": [
       "'mps'"
      ]
     },
     "execution_count": 7,
     "metadata": {},
     "output_type": "execute_result"
    }
   ],
   "source": [
    "device = \"cuda\" if torch.cuda.is_available() else \"mps\" if torch.backends.mps.is_available() else \"cpu\"\n",
    "device"
   ]
  },
  {
   "cell_type": "code",
   "execution_count": 56,
   "id": "ee1fb865",
   "metadata": {},
   "outputs": [
    {
     "name": "stdout",
     "output_type": "stream",
     "text": [
      "MnistFullyCNN(\n",
      "  (block1): Sequential(\n",
      "    (0): Conv2d(1, 8, kernel_size=(3, 3), stride=(1, 1), padding=(1, 1))\n",
      "    (1): ReLU()\n",
      "    (2): BatchNorm2d(8, eps=1e-05, momentum=0.1, affine=True, track_running_stats=True)\n",
      "    (3): Conv2d(8, 16, kernel_size=(3, 3), stride=(1, 1), padding=(1, 1))\n",
      "    (4): ReLU()\n",
      "    (5): BatchNorm2d(16, eps=1e-05, momentum=0.1, affine=True, track_running_stats=True)\n",
      "    (6): Dropout(p=0.05, inplace=False)\n",
      "    (7): MaxPool2d(kernel_size=2, stride=2, padding=0, dilation=1, ceil_mode=False)\n",
      "  )\n",
      "  (block2): Sequential(\n",
      "    (0): Conv2d(16, 16, kernel_size=(3, 3), stride=(1, 1), padding=(1, 1))\n",
      "    (1): ReLU()\n",
      "    (2): BatchNorm2d(16, eps=1e-05, momentum=0.1, affine=True, track_running_stats=True)\n",
      "    (3): Conv2d(16, 32, kernel_size=(3, 3), stride=(1, 1), padding=(1, 1))\n",
      "    (4): ReLU()\n",
      "    (5): BatchNorm2d(32, eps=1e-05, momentum=0.1, affine=True, track_running_stats=True)\n",
      "    (6): Dropout(p=0.05, inplace=False)\n",
      "    (7): MaxPool2d(kernel_size=2, stride=2, padding=0, dilation=1, ceil_mode=False)\n",
      "  )\n",
      "  (block3): Sequential(\n",
      "    (0): Conv2d(32, 32, kernel_size=(3, 3), stride=(1, 1), padding=(1, 1))\n",
      "    (1): ReLU()\n",
      "    (2): BatchNorm2d(32, eps=1e-05, momentum=0.1, affine=True, track_running_stats=True)\n",
      "    (3): Dropout(p=0.05, inplace=False)\n",
      "    (4): Conv2d(32, 16, kernel_size=(1, 1), stride=(1, 1))\n",
      "  )\n",
      "  (block4): Sequential(\n",
      "    (0): Conv2d(16, 10, kernel_size=(1, 1), stride=(1, 1))\n",
      "    (1): AdaptiveAvgPool2d(output_size=(1, 1))\n",
      "  )\n",
      ")\n"
     ]
    }
   ],
   "source": [
    "class MnistFullyCNN(nn.Module):\n",
    "    def __init__(self):\n",
    "        super().__init__()\n",
    "        # First block\n",
    "        self.block1 = nn.Sequential(\n",
    "            nn.Conv2d(1, 8, kernel_size=3, stride=1, padding=1),  # 28x28 -> 28x28\n",
    "            nn.ReLU(),\n",
    "            nn.BatchNorm2d(8),\n",
    "            # nn.Dropout(p=0.05),\n",
    "            nn.Conv2d(8, 16, kernel_size=3, stride=1, padding=1), # 28x28 -> 28x28\n",
    "            nn.ReLU(),\n",
    "            nn.BatchNorm2d(16),\n",
    "            nn.Dropout(p=0.05),\n",
    "            nn.MaxPool2d(2, 2)  # 28x28 -> 14x14\n",
    "        )\n",
    "        \n",
    "        # Second block\n",
    "        self.block2 = nn.Sequential(\n",
    "            nn.Conv2d(16, 16, kernel_size=3, stride=1, padding=1), # 14x14 -> 14x14\n",
    "            nn.ReLU(),\n",
    "            nn.BatchNorm2d(16),\n",
    "            # nn.Dropout(p=0.05),\n",
    "            nn.Conv2d(16, 32, kernel_size=3, stride=1, padding=1), # 14x14 -> 14x14\n",
    "            nn.ReLU(),\n",
    "            nn.BatchNorm2d(32),\n",
    "            nn.Dropout(p=0.05),\n",
    "            nn.MaxPool2d(2, 2)  # 14x14 -> 7x7\n",
    "        )\n",
    "        \n",
    "        # Third block\n",
    "        self.block3 = nn.Sequential(\n",
    "            nn.Conv2d(32, 32, kernel_size=3, stride=1, padding=1), # 7x7 -> 7x7\n",
    "            nn.ReLU(),\n",
    "            nn.BatchNorm2d(32),\n",
    "            nn.Dropout(p=0.05),\n",
    "            nn.Conv2d(32, 16, kernel_size=1, stride=1)  # 1x1 conv for dimension reduction\n",
    "        )\n",
    "        \n",
    "        # Final classification layer - fully convolutional\n",
    "        self.block4 = nn.Sequential(\n",
    "            nn.Conv2d(16, 10, kernel_size=1, stride=1),  # 1x1 conv for 10 classes\n",
    "            nn.AdaptiveAvgPool2d((1, 1))  # Global average pooling\n",
    "        )\n",
    "        \n",
    "    def forward(self, x):\n",
    "        x = self.block1(x)\n",
    "        x = self.block2(x)\n",
    "        x = self.block3(x)\n",
    "        x = self.block4(x)\n",
    "        x = x.view(x.size(0), -1)  # Flatten to (batch_size, 10)\n",
    "        return x\n",
    "\n",
    "model = MnistFullyCNN()\n",
    "model = model.to(device)\n",
    "print(model)"
   ]
  },
  {
   "cell_type": "code",
   "execution_count": 9,
   "id": "456ce3d9",
   "metadata": {},
   "outputs": [],
   "source": [
    "# !pip install torch-summary"
   ]
  },
  {
   "cell_type": "code",
   "execution_count": 10,
   "id": "17941b05",
   "metadata": {},
   "outputs": [
    {
     "name": "stdout",
     "output_type": "stream",
     "text": [
      "==========================================================================================\n",
      "Layer (type:depth-idx)                   Output Shape              Param #\n",
      "==========================================================================================\n",
      "├─Sequential: 1-1                        [-1, 16, 14, 14]          --\n",
      "|    └─Conv2d: 2-1                       [-1, 8, 28, 28]           80\n",
      "|    └─ReLU: 2-2                         [-1, 8, 28, 28]           --\n",
      "|    └─BatchNorm2d: 2-3                  [-1, 8, 28, 28]           16\n",
      "|    └─Conv2d: 2-4                       [-1, 16, 28, 28]          1,168\n",
      "|    └─ReLU: 2-5                         [-1, 16, 28, 28]          --\n",
      "|    └─BatchNorm2d: 2-6                  [-1, 16, 28, 28]          32\n",
      "|    └─Dropout: 2-7                      [-1, 16, 28, 28]          --\n",
      "|    └─MaxPool2d: 2-8                    [-1, 16, 14, 14]          --\n",
      "├─Sequential: 1-2                        [-1, 32, 7, 7]            --\n",
      "|    └─Conv2d: 2-9                       [-1, 16, 14, 14]          2,320\n",
      "|    └─ReLU: 2-10                        [-1, 16, 14, 14]          --\n",
      "|    └─BatchNorm2d: 2-11                 [-1, 16, 14, 14]          32\n",
      "|    └─Conv2d: 2-12                      [-1, 32, 14, 14]          4,640\n",
      "|    └─ReLU: 2-13                        [-1, 32, 14, 14]          --\n",
      "|    └─BatchNorm2d: 2-14                 [-1, 32, 14, 14]          64\n",
      "|    └─Dropout: 2-15                     [-1, 32, 14, 14]          --\n",
      "|    └─MaxPool2d: 2-16                   [-1, 32, 7, 7]            --\n",
      "├─Sequential: 1-3                        [-1, 16, 7, 7]            --\n",
      "|    └─Conv2d: 2-17                      [-1, 32, 7, 7]            9,248\n",
      "|    └─ReLU: 2-18                        [-1, 32, 7, 7]            --\n",
      "|    └─BatchNorm2d: 2-19                 [-1, 32, 7, 7]            64\n",
      "|    └─Dropout: 2-20                     [-1, 32, 7, 7]            --\n",
      "|    └─Conv2d: 2-21                      [-1, 16, 7, 7]            528\n",
      "├─Sequential: 1-4                        [-1, 10, 1, 1]            --\n",
      "|    └─Conv2d: 2-22                      [-1, 10, 7, 7]            170\n",
      "|    └─AdaptiveAvgPool2d: 2-23           [-1, 10, 1, 1]            --\n",
      "==========================================================================================\n",
      "Total params: 18,362\n",
      "Trainable params: 18,362\n",
      "Non-trainable params: 0\n",
      "Total mult-adds (M): 2.82\n",
      "==========================================================================================\n",
      "Input size (MB): 0.00\n",
      "Forward/backward pass size (MB): 0.46\n",
      "Params size (MB): 0.07\n",
      "Estimated Total Size (MB): 0.54\n",
      "==========================================================================================\n"
     ]
    },
    {
     "data": {
      "text/plain": [
       "==========================================================================================\n",
       "Layer (type:depth-idx)                   Output Shape              Param #\n",
       "==========================================================================================\n",
       "├─Sequential: 1-1                        [-1, 16, 14, 14]          --\n",
       "|    └─Conv2d: 2-1                       [-1, 8, 28, 28]           80\n",
       "|    └─ReLU: 2-2                         [-1, 8, 28, 28]           --\n",
       "|    └─BatchNorm2d: 2-3                  [-1, 8, 28, 28]           16\n",
       "|    └─Conv2d: 2-4                       [-1, 16, 28, 28]          1,168\n",
       "|    └─ReLU: 2-5                         [-1, 16, 28, 28]          --\n",
       "|    └─BatchNorm2d: 2-6                  [-1, 16, 28, 28]          32\n",
       "|    └─Dropout: 2-7                      [-1, 16, 28, 28]          --\n",
       "|    └─MaxPool2d: 2-8                    [-1, 16, 14, 14]          --\n",
       "├─Sequential: 1-2                        [-1, 32, 7, 7]            --\n",
       "|    └─Conv2d: 2-9                       [-1, 16, 14, 14]          2,320\n",
       "|    └─ReLU: 2-10                        [-1, 16, 14, 14]          --\n",
       "|    └─BatchNorm2d: 2-11                 [-1, 16, 14, 14]          32\n",
       "|    └─Conv2d: 2-12                      [-1, 32, 14, 14]          4,640\n",
       "|    └─ReLU: 2-13                        [-1, 32, 14, 14]          --\n",
       "|    └─BatchNorm2d: 2-14                 [-1, 32, 14, 14]          64\n",
       "|    └─Dropout: 2-15                     [-1, 32, 14, 14]          --\n",
       "|    └─MaxPool2d: 2-16                   [-1, 32, 7, 7]            --\n",
       "├─Sequential: 1-3                        [-1, 16, 7, 7]            --\n",
       "|    └─Conv2d: 2-17                      [-1, 32, 7, 7]            9,248\n",
       "|    └─ReLU: 2-18                        [-1, 32, 7, 7]            --\n",
       "|    └─BatchNorm2d: 2-19                 [-1, 32, 7, 7]            64\n",
       "|    └─Dropout: 2-20                     [-1, 32, 7, 7]            --\n",
       "|    └─Conv2d: 2-21                      [-1, 16, 7, 7]            528\n",
       "├─Sequential: 1-4                        [-1, 10, 1, 1]            --\n",
       "|    └─Conv2d: 2-22                      [-1, 10, 7, 7]            170\n",
       "|    └─AdaptiveAvgPool2d: 2-23           [-1, 10, 1, 1]            --\n",
       "==========================================================================================\n",
       "Total params: 18,362\n",
       "Trainable params: 18,362\n",
       "Non-trainable params: 0\n",
       "Total mult-adds (M): 2.82\n",
       "==========================================================================================\n",
       "Input size (MB): 0.00\n",
       "Forward/backward pass size (MB): 0.46\n",
       "Params size (MB): 0.07\n",
       "Estimated Total Size (MB): 0.54\n",
       "=========================================================================================="
      ]
     },
     "execution_count": 10,
     "metadata": {},
     "output_type": "execute_result"
    }
   ],
   "source": [
    "from torchsummary import summary\n",
    "\n",
    "summary(model, (1, 28, 28), device=device)"
   ]
  },
  {
   "cell_type": "code",
   "execution_count": 11,
   "id": "9a2ee64a",
   "metadata": {},
   "outputs": [],
   "source": [
    "loss_fn = nn.CrossEntropyLoss()\n",
    "optimizer = torch.optim.Adam(model.parameters(), lr=1e-3) # 0.001"
   ]
  },
  {
   "cell_type": "code",
   "execution_count": 12,
   "id": "b34d7b28",
   "metadata": {},
   "outputs": [],
   "source": [
    "def train(dataloader, model, loss_fn, optimizer):\n",
    "    size = len(dataloader.dataset)\n",
    "    model.train()\n",
    "    for batch, (image, label) in enumerate(dataloader):\n",
    "        image, label = image.to(device), label.to(device)\n",
    "\n",
    "        # Compute prediction error\n",
    "        pred = model(image)\n",
    "        loss = loss_fn(pred, label)\n",
    "\n",
    "        # Backpropagation\n",
    "        loss.backward()\n",
    "        optimizer.step()\n",
    "        optimizer.zero_grad()\n",
    "\n",
    "        if batch % 50 == 0:\n",
    "            loss, current = loss.item(), (batch + 1) * len(X)\n",
    "            print(f\"loss: {loss:>7f}  [{current:>5d}/{size:>5d}]\")"
   ]
  },
  {
   "cell_type": "code",
   "execution_count": 13,
   "id": "58e90b67",
   "metadata": {},
   "outputs": [],
   "source": [
    "def test(dataloader, model, loss_fn):\n",
    "    size = len(dataloader.dataset)\n",
    "    num_batches = len(dataloader)\n",
    "    model.eval()\n",
    "    test_loss, correct = 0, 0\n",
    "    with torch.no_grad():\n",
    "        for image, label in dataloader:\n",
    "            image, label = image.to(device), label.to(device)\n",
    "            pred = model(image)\n",
    "            test_loss += loss_fn(pred, label).item()\n",
    "            correct += (pred.argmax(1) == label).type(torch.float).sum().item()\n",
    "    test_loss /= num_batches\n",
    "    correct /= size\n",
    "    print(f\"Test Error: \\n Accuracy: {(100*correct):>0.1f}%, Avg loss: {test_loss:>8f} \\n\")"
   ]
  },
  {
   "cell_type": "code",
   "execution_count": 14,
   "id": "ba27dde3",
   "metadata": {},
   "outputs": [
    {
     "name": "stdout",
     "output_type": "stream",
     "text": [
      "Epoch 1\n",
      "-------------------------------\n",
      "loss: 2.344753  [   64/60000]\n",
      "loss: 1.578334  [ 3264/60000]\n",
      "loss: 1.003843  [ 6464/60000]\n",
      "loss: 0.483766  [ 9664/60000]\n",
      "loss: 0.391251  [12864/60000]\n",
      "loss: 0.339378  [16064/60000]\n",
      "loss: 0.131558  [19264/60000]\n",
      "loss: 0.101534  [22464/60000]\n",
      "loss: 0.263971  [25664/60000]\n",
      "loss: 0.118621  [28864/60000]\n",
      "loss: 0.087504  [32064/60000]\n",
      "loss: 0.100261  [35264/60000]\n",
      "loss: 0.115743  [38464/60000]\n",
      "loss: 0.093647  [41664/60000]\n",
      "loss: 0.096310  [44864/60000]\n",
      "loss: 0.201479  [48064/60000]\n",
      "loss: 0.206206  [51264/60000]\n",
      "loss: 0.122192  [54464/60000]\n",
      "loss: 0.073539  [57664/60000]\n",
      "Test Error: \n",
      " Accuracy: 97.4%, Avg loss: 0.086012 \n",
      "\n",
      "Done!\n"
     ]
    }
   ],
   "source": [
    "epochs = 1\n",
    "for epoch in range(epochs):\n",
    "    print(f\"Epoch {epoch+1}\\n-------------------------------\")\n",
    "    train(train_dataloader, model, loss_fn, optimizer)\n",
    "    test(test_dataloader, model, loss_fn)\n",
    "print(\"Done!\")"
   ]
  },
  {
   "cell_type": "markdown",
   "id": "5c540fb8",
   "metadata": {},
   "source": [
    "# Saving and loading model"
   ]
  },
  {
   "cell_type": "code",
   "execution_count": 30,
   "id": "06441ea2",
   "metadata": {},
   "outputs": [
    {
     "name": "stdout",
     "output_type": "stream",
     "text": [
      "Saved PyTorch Model State to models/mnist_fully_cnn.pth\n"
     ]
    }
   ],
   "source": [
    "model_path = \"models/mnist_fully_cnn.pth\"\n",
    "torch.save(model.state_dict(), model_path)\n",
    "print(f\"Saved PyTorch Model State to {model_path}\")"
   ]
  },
  {
   "cell_type": "code",
   "execution_count": 52,
   "id": "6416730f",
   "metadata": {},
   "outputs": [
    {
     "data": {
      "text/plain": [
       "<All keys matched successfully>"
      ]
     },
     "execution_count": 52,
     "metadata": {},
     "output_type": "execute_result"
    }
   ],
   "source": [
    "model_loaded = MnistFullyCNN().to(device)\n",
    "model_loaded.load_state_dict(torch.load(model_path, weights_only=True))"
   ]
  },
  {
   "cell_type": "code",
   "execution_count": 53,
   "id": "3bb59d9b",
   "metadata": {},
   "outputs": [
    {
     "name": "stdout",
     "output_type": "stream",
     "text": [
      "Predicted: \"1\", Actual: \"7\"\n"
     ]
    }
   ],
   "source": [
    "# Prediction using loaded model\n",
    "model_loaded.eval()\n",
    "image, label = test_data[0]\n",
    "with torch.no_grad():\n",
    "    image = image.to(device)\n",
    "    pred = model_loaded(image.unsqueeze(0))\n",
    "    predicted, actual = pred[0].argmax(0), label\n",
    "    print(f'Predicted: \"{predicted}\", Actual: \"{actual}\"')"
   ]
  },
  {
   "cell_type": "code",
   "execution_count": 54,
   "id": "8ede440b",
   "metadata": {},
   "outputs": [
    {
     "data": {
      "text/plain": [
       "tensor([-2.3335, -2.1291, -2.1451, -2.6714, -2.1757, -2.5301, -2.5060, -2.2678,\n",
       "        -2.2155, -2.2030], device='mps:0')"
      ]
     },
     "execution_count": 54,
     "metadata": {},
     "output_type": "execute_result"
    }
   ],
   "source": [
    "pred[0]"
   ]
  },
  {
   "cell_type": "code",
   "execution_count": 55,
   "id": "407210b7",
   "metadata": {},
   "outputs": [
    {
     "data": {
      "text/plain": [
       "tensor([[0.0970, 0.1189, 0.1171, 0.0692, 0.1135, 0.0797, 0.0816, 0.1035, 0.1091,\n",
       "         0.1105]], device='mps:0')"
      ]
     },
     "execution_count": 55,
     "metadata": {},
     "output_type": "execute_result"
    }
   ],
   "source": [
    "nn.Softmax(dim=1)(pred)"
   ]
  },
  {
   "cell_type": "markdown",
   "id": "71c37453",
   "metadata": {},
   "source": [
    "# Dataset Class"
   ]
  },
  {
   "cell_type": "code",
   "execution_count": 27,
   "id": "971ff845",
   "metadata": {},
   "outputs": [],
   "source": [
    "import os\n",
    "import pandas as pd\n",
    "from torchvision.io import decode_image\n",
    "\n",
    "class CustomMnistDataset(Dataset):\n",
    "    def __init__(self, annotations_file, img_dir, transform=None, target_transform=None):\n",
    "        self.img_labels = pd.read_csv(annotations_file)\n",
    "        self.img_dir = img_dir\n",
    "        self.transform = transform\n",
    "        self.target_transform = target_transform\n",
    "\n",
    "    def __len__(self):\n",
    "        return len(self.img_labels)\n",
    "\n",
    "    def __getitem__(self, idx):\n",
    "        img_path = os.path.join(self.img_dir, self.img_labels.iloc[idx, 0])\n",
    "        image = decode_image(img_path)\n",
    "        label = self.img_labels.iloc[idx, 1]\n",
    "        if self.transform:\n",
    "            image = self.transform(image)\n",
    "        if self.target_transform:\n",
    "            label = self.target_transform(label)\n",
    "        return image, label"
   ]
  },
  {
   "cell_type": "code",
   "execution_count": 28,
   "id": "2db8b1a3",
   "metadata": {},
   "outputs": [
    {
     "name": "stdout",
     "output_type": "stream",
     "text": [
      "Using mps device\n"
     ]
    }
   ],
   "source": [
    "device = torch.accelerator.current_accelerator().type if torch.accelerator.is_available() else \"cpu\"\n",
    "print(f\"Using {device} device\")"
   ]
  },
  {
   "cell_type": "code",
   "execution_count": null,
   "id": "3f7fbb9e",
   "metadata": {},
   "outputs": [],
   "source": []
  }
 ],
 "metadata": {
  "kernelspec": {
   "display_name": "dissertation",
   "language": "python",
   "name": "python3"
  },
  "language_info": {
   "codemirror_mode": {
    "name": "ipython",
    "version": 3
   },
   "file_extension": ".py",
   "mimetype": "text/x-python",
   "name": "python",
   "nbconvert_exporter": "python",
   "pygments_lexer": "ipython3",
   "version": "3.10.16"
  }
 },
 "nbformat": 4,
 "nbformat_minor": 5
}
